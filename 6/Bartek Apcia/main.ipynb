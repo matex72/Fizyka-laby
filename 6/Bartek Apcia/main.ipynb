{
 "cells": [
  {
   "cell_type": "markdown",
   "metadata": {},
   "source": [
    "### Początkowa konfiguracja"
   ]
  },
  {
   "cell_type": "code",
   "execution_count": null,
   "metadata": {},
   "outputs": [],
   "source": [
    "import json\n",
    "import numpy as np\n",
    "import matplotlib.pyplot as plt\n",
    "from math import sqrt\n",
    "from typing import Dict, List\n",
    "\n",
    "plt.rcParams[\"figure.dpi\"] = 100\n",
    "plt.rcParams[\"figure.figsize\"] = (7, 5)\n",
    "# plt.style.use('dark_background')\n"
   ]
  },
  {
   "cell_type": "markdown",
   "metadata": {},
   "source": [
    "### Ładowanie danych"
   ]
  },
  {
   "cell_type": "code",
   "execution_count": null,
   "metadata": {},
   "outputs": [],
   "source": [
    "with open(\"data.json\") as file:\n",
    "    data = json.load(file)\n",
    "\n",
    "\n",
    "cmTom = 0.01  # centymetry na metry\n",
    "mmTom = 0.001  # milimetry na metry\n",
    "\n",
    "N = 300  # liczba naciec na siatce\n",
    "d = 1 / N * mmTom  # stala siatki dyfrakcyjnej w [m]\n",
    "\n",
    "\n",
    "# data: dict[str, list[dict[str, float]]] = {}\n",
    "# data[\"L=0.5\"] -> [{\"srednia\": val1, \"lambda\": val2}, {\"srednia\": val1}, {}]\n",
    "# index listy to numer przypadku\n"
   ]
  },
  {
   "cell_type": "markdown",
   "metadata": {},
   "source": [
    "### Obliczenie średniej i długości fali"
   ]
  },
  {
   "cell_type": "code",
   "execution_count": null,
   "metadata": {},
   "outputs": [],
   "source": [
    "measurements_list = list()\n",
    "lambda_list = list()\n",
    "\n",
    "for L_key, measurement_list in data.items():\n",
    "\n",
    "    # lista_pomiarow = lista slownikow gdzie klucz zmienna np. srednia, a value to wartość\n",
    "    # index listy_pomiarow to numer przypadku\n",
    "\n",
    "    L_value = float(L_key[2:5])  # L_value w [m]\n",
    "\n",
    "    for measurement in measurement_list:\n",
    "        average = (measurement[\"xL\"] * cmTom + measurement[\"xP\"] * cmTom) / 2\n",
    "        temp_dict = {\n",
    "            \"L\": L_value,\n",
    "            \"n\": measurement[\"n\"],\n",
    "            \"xL\": measurement[\"xL\"] * cmTom,  # xL w [m]\n",
    "            \"xP\": measurement[\"xP\"] * cmTom,  # xP w [m]\n",
    "            \"x_avg\": average,  # srednia w [m]\n",
    "            # lambda w [m]\n",
    "            \"lambda\": d\n",
    "            / measurement[\"n\"]\n",
    "            * average\n",
    "            / (sqrt(average**2 + L_value**2)),\n",
    "        }\n",
    "\n",
    "        measurements_list.append(temp_dict)\n",
    "        lambda_list.append(temp_dict[\"lambda\"])\n",
    "\n",
    "# for measurement in measurements_list:\n",
    "#    print(measurement)\n"
   ]
  },
  {
   "cell_type": "markdown",
   "metadata": {},
   "source": [
    "### Obliczenie niepewności $\\lambda$"
   ]
  },
  {
   "cell_type": "code",
   "execution_count": null,
   "metadata": {},
   "outputs": [],
   "source": [
    "uL = 0.5 * cmTom  # niepewnosc L w [m]\n",
    "uxL = 0.3 * cmTom  # niepewnosc xL w [m]\n",
    "uxP = 0.3 * cmTom  # niepewnosc xP w [m]\n",
    "\n",
    "uxSr = 0.00212  # niepewnosc xSr w [m]\n",
    "\n",
    "# \\ = d/n * xsr / sqrt(xsr^2 + L^2)\n",
    "# d i n to stałe, xsr i L zmienne\n",
    "\n",
    "N = 300  # liczba naciec na siatce\n",
    "d = 1 / N * mmTom  # stala siatki dyfrakcyjnej w [m]\n",
    "\n",
    "\n",
    "def niepewnosc_lambda(measurements_list: List[Dict[str, float]]) -> List[float]:\n",
    "    errors = list()\n",
    "    for measurement in measurements_list:\n",
    "        L = measurement[\"L\"]\n",
    "        n = measurement[\"n\"]\n",
    "        xn = measurement[\"x_avg\"]\n",
    "\n",
    "        pochodna_po_xn = (uxSr * d * L**2) / (n * (xn**2 + L**2) ** 1.5)\n",
    "        pochodna_po_l = (uL * -d * L * xn) / (n * ((xn**2 + L**2) ** 1.5))\n",
    "        errors.append(sqrt(pochodna_po_xn**2 + pochodna_po_l**2))\n",
    "\n",
    "    return errors\n",
    "\n",
    "\n",
    "lambda_errors = niepewnosc_lambda(measurements_list)\n",
    "print(lambda_errors)\n"
   ]
  },
  {
   "cell_type": "markdown",
   "metadata": {},
   "source": [
    "### Obliczenie średniej ważonej z lambdy i jej niepewności"
   ]
  },
  {
   "cell_type": "code",
   "execution_count": null,
   "metadata": {},
   "outputs": [],
   "source": [
    "def srednia_wazona(lambda_errors: List[float], lambda_list: List[float]) -> float:\n",
    "    wages = [1 / (u * u) for u in lambda_errors]\n",
    "    return sum(wage * val for wage, val in zip(wages, lambda_list)) / sum(wages)\n",
    "\n",
    "\n",
    "def niepewnosc_sredniej_wazonej(lambda_errors):\n",
    "    wages = [1 / (u * u) for u in lambda_errors]\n",
    "    return 1 / sqrt(sum(wages))\n",
    "\n",
    "\n",
    "lambda_srednia_wazona = srednia_wazona(lambda_errors, lambda_list)\n",
    "lambda_srednia_wazona_error = niepewnosc_sredniej_wazonej(lambda_errors)\n",
    "\n",
    "print(lambda_srednia_wazona)\n",
    "print(lambda_srednia_wazona_error)\n"
   ]
  },
  {
   "cell_type": "markdown",
   "metadata": {},
   "source": [
    "### Zapisanie długości fali w nano metrach"
   ]
  },
  {
   "cell_type": "code",
   "execution_count": null,
   "metadata": {},
   "outputs": [],
   "source": [
    "mTonm = 10**9  # metry na nanometry\n",
    "\n",
    "print(\"\\nwartosci lambda w nanometrach\")\n",
    "lambda_list = [mTonm * l for l in lambda_list]\n",
    "print(lambda_list)\n",
    "\n",
    "print(\"\\nniepewnosc lambda w nanometrach:\")\n",
    "lambda_errors = [mTonm * l for l in lambda_errors]\n",
    "print(lambda_errors)\n",
    "\n",
    "print(\"\\nsrednia wazona z lambdy i jej niepewnosci w nanometrach:\")\n",
    "lambda_srednia_wazona *= mTonm\n",
    "print(lambda_srednia_wazona)\n",
    "\n",
    "print(\"\\nniepewnosc sredniej wazonej z lambda w nanometrach:\")\n",
    "lambda_srednia_wazona_error *= mTonm\n",
    "print(lambda_srednia_wazona_error)\n"
   ]
  }
 ],
 "metadata": {
  "interpreter": {
   "hash": "8f7d526b7fffc69576cde856c2c80dcc1cce9b4d4b077ff62dfc13315006c4bf"
  },
  "kernelspec": {
   "display_name": "Python 3.10.2 64-bit ('3.10.2')",
   "language": "python",
   "name": "python3"
  },
  "language_info": {
   "codemirror_mode": {
    "name": "ipython",
    "version": 3
   },
   "file_extension": ".py",
   "mimetype": "text/x-python",
   "name": "python",
   "nbconvert_exporter": "python",
   "pygments_lexer": "ipython3",
   "version": "3.8.10"
  }
 },
 "nbformat": 4,
 "nbformat_minor": 2
}
