{
 "cells": [
  {
   "cell_type": "code",
   "execution_count": null,
   "metadata": {},
   "outputs": [],
   "source": [
    "import numpy as np\n",
    "import pandas as pd\n",
    "import matplotlib.pyplot as plt\n",
    "from math import sqrt, floor, log10, cos, sin\n",
    "\n",
    "\n",
    "def round_sig(x: float, sig: int) -> float:\n",
    "    \"\"\"Rounds x to sig significant digits\"\"\"\n",
    "    return x if x == 0 else round(x, sig - int(floor(log10(abs(x)))) - 1)\n",
    "\n",
    "\n",
    "plt.rcParams[\"figure.figsize\"] = (20, 28)\n",
    "# plt.style.use('dark_background')\n"
   ]
  },
  {
   "cell_type": "markdown",
   "metadata": {},
   "source": [
    "### Ładowanie danych"
   ]
  },
  {
   "cell_type": "code",
   "execution_count": null,
   "metadata": {},
   "outputs": [],
   "source": [
    "df = pd.read_csv(\"data.csv\")\n",
    "df.head()\n"
   ]
  },
  {
   "cell_type": "markdown",
   "metadata": {},
   "source": [
    "### Wykres I($\\phi$)"
   ]
  },
  {
   "cell_type": "code",
   "execution_count": null,
   "metadata": {},
   "outputs": [],
   "source": [
    "# 1 degree = pi / 180 radians\n",
    "\n",
    "I = df[\"I\"]\n",
    "phi_radians = df[\"fi\"] * np.pi / 180  # in radians\n",
    "phi_error_radians = [0.5 * np.pi / 180 for _ in range(len(phi_radians))]  # in radians\n",
    "I_error = [round_sig((8 / 1000 * i + 2 * 0.1) / sqrt(3), 2) for i in I]\n",
    "\n",
    "# set polar coordinates\n",
    "ax = plt.axes(polar=True)\n",
    "ax.set_theta_zero_location(\"N\")\n",
    "ax.plot(phi_radians, I, color=\"red\")\n",
    "ax.errorbar(\n",
    "    phi_radians,\n",
    "    I,\n",
    "    yerr=I_error,\n",
    "    xerr=phi_error_radians,\n",
    "    fmt=\"o\",\n",
    "    linewidth=1,\n",
    "    markersize=2,\n",
    "    color=\"red\",\n",
    ")\n",
    "\n",
    "# change size of x and y axis numbers\n",
    "ax.tick_params(axis=\"both\", which=\"major\", labelsize=15)\n",
    "\n",
    "# set x axis every 5 degrees\n",
    "ax.set_xticks(np.arange(0, 2 * np.pi, np.pi / 36))\n",
    "\n",
    "plt.title(r\"Wykres wskazań miernika w zależności od kąta $I(\\phi)$\", fontsize=30)\n",
    "plt.savefig(\"./img/wykres1.jpg\")\n",
    "plt.show()\n"
   ]
  },
  {
   "cell_type": "markdown",
   "metadata": {},
   "source": [
    "### Obliczenie teoretycznych wartości prądu \n",
    "#### $I_T = I_{max} \\cdot cos^2(\\phi)$"
   ]
  },
  {
   "cell_type": "code",
   "execution_count": null,
   "metadata": {},
   "outputs": [],
   "source": [
    "I_max = max(df[\"I\"])\n",
    "I_T = [round_sig(I_max * cos(phi) ** 2, 3) for phi in phi_radians]\n",
    "\n",
    "# 1 degree = pi / 180 radians\n",
    "\n",
    "I_T_error = [\n",
    "    round_sig(\n",
    "        sqrt(\n",
    "            (2 * I_max * cos(phi) * sin(phi) * phi_error) ** 2\n",
    "            + (i_error * cos(phi) ** 2) ** 2\n",
    "        ),\n",
    "        2,\n",
    "    )\n",
    "    for phi, phi_error, i_error in zip(phi_radians, phi_error_radians, I_error)\n",
    "]\n",
    "\n",
    "\n",
    "# set polar coordinates\n",
    "ax = plt.axes(polar=True)\n",
    "ax.set_theta_zero_location(\"N\")\n",
    "ax.errorbar(\n",
    "    phi_radians,\n",
    "    I_T,\n",
    "    yerr=I_T_error,\n",
    "    xerr=phi_error_radians,\n",
    "    fmt=\"o\",\n",
    "    linewidth=1,\n",
    "    markersize=2,\n",
    "    color=\"midnightblue\",\n",
    ")\n",
    "\n",
    "# change size of x and y axis numbers\n",
    "ax.tick_params(axis=\"both\", which=\"major\", labelsize=15)\n",
    "\n",
    "# set x axis every 5 degrees\n",
    "ax.set_xticks(np.arange(0, 2 * np.pi, np.pi / 36))\n",
    "\n",
    "plt.title(r\"Wykres wartości teoretycznych $I_T(\\phi)$\", fontsize=30)\n",
    "plt.savefig(\"./img/wykres2.jpg\")\n",
    "plt.show()\n"
   ]
  },
  {
   "cell_type": "markdown",
   "metadata": {},
   "source": [
    "### Obliczenie błąd zera $\\alpha$\n",
    "### $\\alpha = \\phi_T - \\phi$, $\\alpha = 110^{\\circ}$"
   ]
  },
  {
   "cell_type": "code",
   "execution_count": null,
   "metadata": {},
   "outputs": [],
   "source": [
    "alpha = 110 * np.pi / 180\n",
    "rotated_phi = [alpha + phi for phi in phi_radians]\n",
    "\n",
    "# set polar coordinates\n",
    "ax = plt.axes(polar=True)\n",
    "ax.set_theta_zero_location(\"N\")\n",
    "ax.plot(phi_radians, I, color=\"red\")\n",
    "ax.errorbar(\n",
    "    phi_radians,\n",
    "    I,\n",
    "    yerr=I_error,\n",
    "    xerr=phi_error_radians,\n",
    "    fmt=\"o\",\n",
    "    linewidth=1,\n",
    "    markersize=2,\n",
    "    label=r\"$I(\\phi)$, $\\mu$A\",\n",
    "    color=\"red\",\n",
    ")\n",
    "\n",
    "ax.plot(rotated_phi, I_T, color=\"midnightblue\")\n",
    "ax.errorbar(\n",
    "    rotated_phi,\n",
    "    I_T,\n",
    "    yerr=I_T_error,\n",
    "    xerr=phi_error_radians,\n",
    "    fmt=\"o\",\n",
    "    linewidth=1,\n",
    "    markersize=2,\n",
    "    label=r\"$I_T(\\phi+\\alpha)$, $\\mu$A\",\n",
    "    color=\"midnightblue\",\n",
    ")\n",
    "\n",
    "# change size of x and y axis numbers\n",
    "ax.tick_params(axis=\"both\", which=\"major\", labelsize=15)\n",
    "\n",
    "# set legend\n",
    "ax.legend(loc=\"upper left\", fontsize=20)\n",
    "\n",
    "# set x axis every 5 degrees\n",
    "ax.set_xticks(np.arange(0, 2 * np.pi, np.pi / 36))\n",
    "\n",
    "plt.title(r\"Nałożone wykresy, kąt obrotu $\\alpha=110^{\\circ}$\", fontsize=30)\n",
    "plt.savefig(\"./img/wykres3.jpg\")\n",
    "plt.show()\n"
   ]
  }
 ],
 "metadata": {
  "interpreter": {
   "hash": "5ca629c7044656393e4fc37687ea919186c174e9b55be42b71aa03822ff900dd"
  },
  "kernelspec": {
   "display_name": "Python 3.10.3 64-bit ('3.10.3')",
   "language": "python",
   "name": "python3"
  },
  "language_info": {
   "codemirror_mode": {
    "name": "ipython",
    "version": 3
   },
   "file_extension": ".py",
   "mimetype": "text/x-python",
   "name": "python",
   "nbconvert_exporter": "python",
   "pygments_lexer": "ipython3",
   "version": "3.10.3"
  }
 },
 "nbformat": 4,
 "nbformat_minor": 2
}
