{
 "cells": [
  {
   "cell_type": "code",
   "execution_count": null,
   "metadata": {},
   "outputs": [],
   "source": [
    "import numpy as np\n",
    "import pandas as pd\n",
    "import matplotlib.pyplot as plt\n",
    "from math import sqrt\n",
    "\n",
    "plt.rcParams[\"figure.dpi\"] = 100\n",
    "plt.rcParams[\"figure.figsize\"] = (20, 28)\n",
    "# plt.style.use('dark_background')\n"
   ]
  },
  {
   "cell_type": "markdown",
   "metadata": {},
   "source": [
    "### Ładowanie danych"
   ]
  },
  {
   "cell_type": "code",
   "execution_count": null,
   "metadata": {},
   "outputs": [],
   "source": [
    "df = pd.read_csv(\"data.csv\")\n",
    "df.head()\n"
   ]
  },
  {
   "cell_type": "markdown",
   "metadata": {},
   "source": [
    "### Obliczenie średniego czasu spadania $t_{śr}$"
   ]
  },
  {
   "cell_type": "code",
   "execution_count": null,
   "metadata": {},
   "outputs": [],
   "source": [
    "df[\"t_śr\"] = df.iloc[:, 2:6].mean(axis=1)\n",
    "df[\"sqrt(H)\"] = np.sqrt(df.iloc[:, 1])\n",
    "df\n"
   ]
  },
  {
   "cell_type": "markdown",
   "metadata": {},
   "source": [
    "### Obliczenie niepewności typu $a$ średnich czasów spadania"
   ]
  },
  {
   "cell_type": "code",
   "execution_count": null,
   "metadata": {},
   "outputs": [],
   "source": [
    "# t[numer_testu][0..9]\n",
    "t = [\n",
    "    [df[\"t1\"][i], df[\"t2\"][i], df[\"t3\"][i], df[\"t4\"][i], df[\"t5\"][i]] for i in range(10)\n",
    "]\n",
    "\n",
    "t_sr = df[\"t_śr\"].tolist()\n",
    "\n",
    "\n",
    "def get_at_error() -> \"list[float]\":\n",
    "    \"\"\"\n",
    "    \"   Oblicza błędy u_a(t_sr) dla każdego t_sr\n",
    "    \"\"\"\n",
    "\n",
    "    fischer_const = 1.141\n",
    "    n = 5  # liczba pomiarów w serii\n",
    "    return [\n",
    "        sqrt(1 / (n * (n - 1)) * (sum([(x - xsr) ** 2 for x in xlist]))) * fischer_const\n",
    "        for xsr, xlist in zip(t_sr, t)\n",
    "    ]\n",
    "\n",
    "\n",
    "u_at = get_at_error()\n",
    "print(u_at)\n"
   ]
  },
  {
   "cell_type": "markdown",
   "metadata": {},
   "source": [
    "### Obliczenie niepewności typu $b$ średnich czasów spadania"
   ]
  },
  {
   "cell_type": "code",
   "execution_count": null,
   "metadata": {},
   "outputs": [],
   "source": [
    "def get_bt_error() -> float:\n",
    "    \"\"\"\n",
    "    \"   Oblicza błąd u_b(t) dla t\n",
    "    \"\"\"\n",
    "\n",
    "    return 0.003 / sqrt(3)\n",
    "\n",
    "\n",
    "u_bt = get_bt_error()\n",
    "print(u_bt)\n"
   ]
  },
  {
   "cell_type": "markdown",
   "metadata": {},
   "source": [
    "### Obliczenie niepewności całkowitych średnich czasów spadania"
   ]
  },
  {
   "cell_type": "code",
   "execution_count": null,
   "metadata": {},
   "outputs": [],
   "source": [
    "def get_ut_error() -> \"list[float]\":\n",
    "    \"\"\"\n",
    "    \"   Oblicza całkowite błędy u(t_sr) dla każdego t_sr\n",
    "    \"\"\"\n",
    "\n",
    "    b = u_bt\n",
    "    return [sqrt(a * a + b * b) for a in u_at]\n",
    "\n",
    "\n",
    "ut = get_ut_error()\n",
    "print(ut)\n"
   ]
  },
  {
   "cell_type": "markdown",
   "metadata": {},
   "source": [
    "### Obliczenie niepewności $\\sqrt{H}$"
   ]
  },
  {
   "cell_type": "code",
   "execution_count": null,
   "metadata": {},
   "outputs": [],
   "source": [
    "u_H = 0.003  # [m]\n",
    "\n",
    "\n",
    "def get_sqrtH_error(H):\n",
    "    return [u_H / (2 * sqrt(h)) for h in H]\n",
    "\n",
    "\n",
    "u_sqrtH = get_sqrtH_error(df[\"H\"])\n",
    "print(u_sqrtH)\n"
   ]
  },
  {
   "cell_type": "markdown",
   "metadata": {},
   "source": [
    "### Wykres zależności $t_{śr}$ od $H$"
   ]
  },
  {
   "cell_type": "code",
   "execution_count": null,
   "metadata": {},
   "outputs": [],
   "source": [
    "plt.errorbar(\n",
    "    df[\"H\"],\n",
    "    df[\"t_śr\"],\n",
    "    xerr=u_H,\n",
    "    yerr=ut,\n",
    "    fmt=\"o\",\n",
    "    label=\"xd\",\n",
    "    linewidth=1,\n",
    "    markersize=5,\n",
    "    color=\"red\",\n",
    ")\n",
    "\n",
    "plt.title(\n",
    "    \"Wykres zależności średniego czasu spadania $t_{śr}$ od wysokości $H$\", fontsize=30\n",
    ")\n",
    "plt.ylabel(\"$t_{śr}$, s\", fontsize=30)\n",
    "plt.xlabel(\"$H$, m\", fontsize=30)\n",
    "\n",
    "plt.savefig(\"wykres1.jpg\")\n"
   ]
  },
  {
   "cell_type": "markdown",
   "metadata": {},
   "source": [
    "### Wykres zależności $t_{śr}$ od $\\sqrt{H}$"
   ]
  },
  {
   "cell_type": "code",
   "execution_count": null,
   "metadata": {},
   "outputs": [],
   "source": [
    "plt.errorbar(\n",
    "    df[\"sqrt(H)\"],\n",
    "    df[\"t_śr\"],\n",
    "    xerr=u_sqrtH,\n",
    "    yerr=ut,\n",
    "    fmt=\"o\",\n",
    "    label=\"xd\",\n",
    "    linewidth=1,\n",
    "    markersize=5,\n",
    "    color=\"red\",\n",
    ")\n",
    "\n",
    "sqrt_h = df[\"sqrt(H)\"]\n",
    "a, b = np.polyfit(sqrt_h, t_sr, 1)\n",
    "plt.plot(sqrt_h, a * sqrt_h + b, color=\"orange\")\n",
    "\n",
    "\n",
    "def get_a_error() -> float:\n",
    "    \"\"\"\n",
    "    \"   Zwraca niepewność współczynnika kierukowego a\n",
    "    \"\"\"\n",
    "\n",
    "    n = 10\n",
    "    S_x = sum(sqrt_h)\n",
    "    S_xx = sum([x * x for x in sqrt_h])\n",
    "    S_ee = sum([(y - a * x - b) ** 2 for x, y in zip(sqrt_h, t_sr)])\n",
    "    return sqrt(n / (n - 2) * S_ee / (n * S_xx - S_x * S_x))\n",
    "\n",
    "\n",
    "def get_b_error() -> float:\n",
    "    \"\"\"\n",
    "    \"    Zwraca niepewność wyrazu wolnego b\n",
    "    \"\"\"\n",
    "\n",
    "    n = 10\n",
    "    S_x = sum(sqrt_h)\n",
    "    S_xx = sum([x * x for x in sqrt_h])\n",
    "    S_ee = sum([(y - a * x - b) ** 2 for x, y in zip(sqrt_h, t_sr)])\n",
    "    return sqrt(1 / (n - 2) * (S_xx * S_ee) / (n * S_xx - S_x * S_x))\n",
    "\n",
    "\n",
    "a_error = get_a_error()\n",
    "b_error = get_b_error()\n",
    "\n",
    "print(f\"a={a}, u(a)={a_error}\")\n",
    "print(f\"b={b}, u(b)={b_error}\")\n",
    "\n",
    "plt.title(\n",
    "    \"Wykres zależności średniego czasu spadania $t_{śr}$ od pierwiastka wysokości $\\sqrt{H}$\",\n",
    "    fontsize=30,\n",
    ")\n",
    "plt.ylabel(\"$t_{śr}$, s\", fontsize=30)\n",
    "plt.xlabel(\"$\\sqrt{H}$, $\\sqrt{m}$\", fontsize=30)\n",
    "\n",
    "plt.savefig(\"wykres2.jpg\")\n"
   ]
  },
  {
   "cell_type": "markdown",
   "metadata": {},
   "source": [
    "### Wyznaczenie $g$."
   ]
  },
  {
   "cell_type": "code",
   "execution_count": null,
   "metadata": {},
   "outputs": [],
   "source": [
    "print(round(2 / (a * a), 3))\n"
   ]
  },
  {
   "cell_type": "markdown",
   "metadata": {},
   "source": [
    "### Policzenie g dla Gliwic"
   ]
  },
  {
   "cell_type": "code",
   "execution_count": null,
   "metadata": {},
   "outputs": [],
   "source": [
    "from math import sin, radians\n",
    "\n",
    "\n",
    "def calc_g(phi, h):\n",
    "    return (\n",
    "        9.780318 * (1 + 0.0053024 * (sin(phi) ** 2) - 0.0000058 * (sin(2 * phi) ** 2))\n",
    "        - 3.086 * 10e-6 * h\n",
    "    )\n",
    "\n",
    "\n",
    "phi = 50.3\n",
    "h = 219\n",
    "print(calc_g(radians(phi), h))\n"
   ]
  }
 ],
 "metadata": {
  "interpreter": {
   "hash": "5ca629c7044656393e4fc37687ea919186c174e9b55be42b71aa03822ff900dd"
  },
  "kernelspec": {
   "display_name": "Python 3.10.3 64-bit ('3.10.3')",
   "language": "python",
   "name": "python3"
  },
  "language_info": {
   "codemirror_mode": {
    "name": "ipython",
    "version": 3
   },
   "file_extension": ".py",
   "mimetype": "text/x-python",
   "name": "python",
   "nbconvert_exporter": "python",
   "pygments_lexer": "ipython3",
<<<<<<< HEAD
   "version": "3.8.10"
=======
   "version": "3.10.3"
>>>>>>> master
  }
 },
 "nbformat": 4,
 "nbformat_minor": 2
}
