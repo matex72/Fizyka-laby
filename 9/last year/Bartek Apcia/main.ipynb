{
 "cells": [
  {
   "cell_type": "code",
   "execution_count": null,
   "metadata": {},
   "outputs": [],
   "source": [
    "import numpy as np\n",
    "import pandas as pd\n",
    "import matplotlib.pyplot as plt\n",
    "from math import sqrt, floor, log10\n",
    "\n",
    "\n",
    "def round_sig(x: float, sig: int) -> float:\n",
    "    \"\"\"Rounds x to sig significant digits\"\"\"\n",
    "    return x if x == 0 else round(x, sig - int(floor(log10(abs(x)))) - 1)\n",
    "\n",
    "\n",
    "plt.rcParams[\"figure.dpi\"] = 100\n",
    "plt.rcParams[\"figure.figsize\"] = (20, 28)\n",
    "# plt.style.use('dark_background')"
   ]
  },
  {
   "cell_type": "markdown",
   "metadata": {},
   "source": [
    "### Ładowanie danych"
   ]
  },
  {
   "cell_type": "code",
   "execution_count": null,
   "metadata": {},
   "outputs": [],
   "source": [
    "df = pd.read_csv(\"data.csv\")\n",
    "df.head()"
   ]
  },
  {
   "cell_type": "markdown",
   "metadata": {},
   "source": [
    "### Obliczenie różnicy temperatur w °C i kelwinach (to to samo)"
   ]
  },
  {
   "cell_type": "code",
   "execution_count": null,
   "metadata": {},
   "outputs": [],
   "source": [
    "df[\"T_k\"] = df.loc[:, \"Tg\"] - df.loc[:, \"Td\"]\n",
    "print(df)"
   ]
  },
  {
   "cell_type": "markdown",
   "metadata": {},
   "source": [
    "### Obliczenie niepewności $u(T_g)$ i $u(T_d)$"
   ]
  },
  {
   "cell_type": "code",
   "execution_count": null,
   "metadata": {},
   "outputs": [],
   "source": [
    "# Napięcie stałe DC\n",
    "# u(T) = += (0.5% * val + 0.001) / sqrt(3)\n",
    "\n",
    "Tg = list(df.iloc[:, 2])\n",
    "Td = list(df.iloc[:, 1])\n",
    "\n",
    "u_Tg = [round_sig((0.005 * x + 0.001) / sqrt(3), 2) for x in Tg]\n",
    "u_Td = [round_sig((0.005 * x + 0.001) / sqrt(3), 2) for x in Td]\n",
    "\n",
    "print(u_Tg)"
   ]
  },
  {
   "cell_type": "markdown",
   "metadata": {},
   "source": [
    "### Obliczenie niepewności $u(\\Delta T)$ z prawa przenoszenia niepewności"
   ]
  },
  {
   "cell_type": "code",
   "execution_count": null,
   "metadata": {},
   "outputs": [],
   "source": [
    "# T = Tg - Td\n",
    "# sqrt(u(Tg)^2 + u(Td)^2)\n",
    "\n",
    "u_deltaT = [round_sig(sqrt(u_tg**2 + u_td**2), 2) for u_tg, u_td in zip(u_Tg, u_Td)]\n",
    "print(u_deltaT)"
   ]
  },
  {
   "cell_type": "markdown",
   "metadata": {},
   "source": [
    "### Obliczenie niepewności natężenia $I$"
   ]
  },
  {
   "cell_type": "code",
   "execution_count": null,
   "metadata": {},
   "outputs": [],
   "source": [
    "# MY-67 natężenie\n",
    "# zakres = 10A, rozdzielczość = 0.01 A\n",
    "# u(I) = +- 2% * val + 5 * roz\n",
    "# u(I) = +- 1/50 * val + 0.05\n",
    "\n",
    "u_I = [round_sig(1 / 50 * i + 0.05, 2) for i in df[\"I\"]]\n",
    "print(u_I)"
   ]
  },
  {
   "cell_type": "markdown",
   "metadata": {},
   "source": [
    "### Wykres $f(I) = (\\Delta T)$ i regresja liniowa"
   ]
  },
  {
   "cell_type": "code",
   "execution_count": null,
   "metadata": {},
   "outputs": [],
   "source": [
    "plt.errorbar(\n",
    "    df[\"I\"],\n",
    "    df[\"T_k\"],\n",
    "    xerr=u_I,\n",
    "    yerr=u_deltaT,\n",
    "    fmt=\"o\",\n",
    "    label=\"xd\",\n",
    "    linewidth=1,\n",
    "    markersize=5,\n",
    "    color=\"red\",\n",
    ")\n",
    "\n",
    "a, b = np.polyfit(df[\"I\"], df[\"T_k\"], 1)\n",
    "a = round_sig(a, 3)\n",
    "b = round_sig(b, 3)\n",
    "plt.plot(df[\"I\"], a * df[\"I\"] + b, color=\"orange\")\n",
    "\n",
    "\n",
    "def get_a_error(X: list[float], Y: list[float]) -> float:\n",
    "    \"\"\"Zwraca niepewność współczynnika kierukowego a\"\"\"\n",
    "\n",
    "    n = len(X)\n",
    "    S_x = sum(X)\n",
    "    S_xx = sum([x * x for x in X])\n",
    "    S_ee = sum([(y - a * x - b) ** 2 for x, y in zip(X, Y)])\n",
    "    return sqrt(n / (n - 2) * S_ee / (n * S_xx - S_x * S_x))\n",
    "\n",
    "\n",
    "def get_b_error(X: list[float], Y: list[float]) -> float:\n",
    "    \"\"\"Zwraca niepewność wyrazu wolnego b\"\"\"\n",
    "\n",
    "    n = len(X)\n",
    "    S_x = sum(X)\n",
    "    S_xx = sum([x * x for x in X])\n",
    "    S_ee = sum([(y - a * x - b) ** 2 for x, y in zip(X, Y)])\n",
    "    return sqrt(1 / (n - 2) * (S_xx * S_ee) / (n * S_xx - S_x * S_x))\n",
    "\n",
    "\n",
    "a_error = round_sig(get_a_error(df[\"I\"], df[\"T_k\"]), 2)\n",
    "b_error = round_sig(get_b_error(df[\"I\"], df[\"T_k\"]), 2)\n",
    "\n",
    "print(f\"a={a}, u(a)={a_error}\")\n",
    "print(f\"b={b}, u(b)={b_error}\")\n",
    "\n",
    "\n",
    "plt.title(\n",
    "    r\"Wykres zależności różnicy temperatur $\\Delta T$ od napięcia $I$\",\n",
    "    fontsize=30,\n",
    ")\n",
    "plt.ylabel(\"r$Delta T, K$\", fontsize=30)\n",
    "plt.xlabel(\"$I$, A\", fontsize=30)\n",
    "\n",
    "plt.savefig(\"./img/wykres.jpg\")"
   ]
  },
  {
   "cell_type": "markdown",
   "metadata": {},
   "source": [
    "### Obliczenie róznicy temperatur $\\Delta T$ dla $I$ = 1A"
   ]
  },
  {
   "cell_type": "code",
   "execution_count": null,
   "metadata": {},
   "outputs": [],
   "source": [
    "# delta_T = a * I + b\n",
    "# dla I = 1\n",
    "\n",
    "res = round_sig(a * 1 + b, 3)\n",
    "print(f\"Różnica temperatur na module Peltiera dla I = 1A wynosi {res}\")"
   ]
  }
 ],
 "metadata": {
  "interpreter": {
   "hash": "5ca629c7044656393e4fc37687ea919186c174e9b55be42b71aa03822ff900dd"
  },
  "kernelspec": {
   "display_name": "Python 3.10.3 64-bit ('3.10.3')",
   "language": "python",
   "name": "python3"
  },
  "language_info": {
   "codemirror_mode": {
    "name": "ipython",
    "version": 3
   },
   "file_extension": ".py",
   "mimetype": "text/x-python",
   "name": "python",
   "nbconvert_exporter": "python",
   "pygments_lexer": "ipython3",
   "version": "3.10.3"
  }
 },
 "nbformat": 4,
 "nbformat_minor": 2
}
